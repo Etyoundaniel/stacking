{
 "cells": [
  {
   "cell_type": "code",
   "execution_count": 13,
   "id": "f55c56ad",
   "metadata": {
    "pycharm": {
     "is_executing": true,
     "name": "#%%\n"
    }
   },
   "outputs": [
    {
     "name": "stdout",
     "output_type": "stream",
     "text": [
      "Collecting xgboost\n",
      "  Using cached xgboost-1.7.4-py3-none-win_amd64.whl (89.1 MB)\n",
      "Requirement already satisfied: scipy in c:\\users\\daniel\\anaconda5\\lib\\site-packages (from xgboost) (1.7.1)\n",
      "Requirement already satisfied: numpy in c:\\users\\daniel\\anaconda5\\lib\\site-packages (from xgboost) (1.20.3)\n",
      "Installing collected packages: xgboost\n",
      "Successfully installed xgboost-1.7.4\n"
     ]
    }
   ],
   "source": [
    "import sys\n",
    "!{sys.executable} -m pip install xgboost"
   ]
  },
  {
   "cell_type": "code",
   "execution_count": 18,
   "id": "cd3bc2e3",
   "metadata": {
    "pycharm": {
     "name": "#%%\n"
    }
   },
   "outputs": [],
   "source": [
    "import os\n",
    "import numpy as np\n",
    "from sklearn import preprocessing\n",
    "import pandas as pd\n",
    "from sklearn.model_selection import train_test_split\n",
    "from sklearn.metrics import mean_squared_error, mean_absolute_error\n",
    "from sklearn.tree import DecisionTreeRegressor\n",
    "from sklearn.ensemble import StackingRegressor\n",
    "from sklearn.metrics import make_scorer\n",
    "from sklearn.model_selection import GridSearchCV\n",
    "from xgboost import XGBRegressor\n",
    "from sklearn.ensemble import RandomForestRegressor\n",
    "from string import punctuation\n",
    "from tqdm.notebook import tqdm\n",
    "from collections import Counter\n",
    "import pickle"
   ]
  },
  {
   "cell_type": "markdown",
   "id": "eec59635",
   "metadata": {
    "pycharm": {
     "name": "#%% md\n"
    }
   },
   "source": [
    "### 读取数据"
   ]
  },
  {
   "cell_type": "code",
   "execution_count": 23,
   "id": "a9897435",
   "metadata": {},
   "outputs": [],
   "source": [
    "# Create empty lists to store data\n",
    "x = []\n",
    "y = []\n",
    "\n",
    "# Loop through all files in the directory\n",
    "for root, dirs, files in os.walk('数据/600/', topdown=True):\n",
    "    for file_name in files:\n",
    "        # Check if the file is a CSV or Excel file\n",
    "        if not file_name.endswith(('.xls', '.xlsx', '.csv')):\n",
    "            continue\n",
    "        # Read data from the file\n",
    "        if file_name.endswith(('.xls', '.xlsx')):\n",
    "            columns = [\n",
    "                '草地', '城市', '林地', '裸地', '湿地', '水体', 'NTL_mean', 'dem', 'road',\n",
    "                'WI'\n",
    "            ]\n",
    "            data = pd.read_excel(os.path.join(root, file_name), header=0, usecols=columns).dropna(subset=columns)\n",
    "        else:\n",
    "            columns = [\n",
    "                '草地面积', '城市面积', '林地面积', '裸地面积', '湿地面积', '水体面积', 'NTL_mean',\n",
    "                'dem', 'road_near', 'WI'\n",
    "            ]\n",
    "            data = pd.read_csv(os.path.join(root, file_name), header=0, usecols=columns).dropna(subset=columns)\n",
    "        # Separate the features and labels\n",
    "        X = data[columns[:-1]]\n",
    "        Y = data[columns[-1]]\n",
    "        # Append the features and labels as arrays to the x and y lists\n",
    "        x.append(np.array(X, dtype='float32'))\n",
    "        y.append(np.array(Y, dtype='float32'))\n"
   ]
  },
  {
   "cell_type": "code",
   "execution_count": 34,
   "id": "5633b33b",
   "metadata": {},
   "outputs": [
    {
     "ename": "ValueError",
     "evalue": "need at least one array to concatenate",
     "output_type": "error",
     "traceback": [
      "\u001b[1;31m---------------------------------------------------------------------------\u001b[0m",
      "\u001b[1;31mValueError\u001b[0m                                Traceback (most recent call last)",
      "\u001b[1;32m~\\AppData\\Local\\Temp/ipykernel_15108/1387546232.py\u001b[0m in \u001b[0;36m<module>\u001b[1;34m\u001b[0m\n\u001b[0;32m      1\u001b[0m \u001b[1;31m# Combine the feature and label arrays into a single array\u001b[0m\u001b[1;33m\u001b[0m\u001b[1;33m\u001b[0m\u001b[0m\n\u001b[1;32m----> 2\u001b[1;33m \u001b[0mx\u001b[0m \u001b[1;33m=\u001b[0m \u001b[0mnp\u001b[0m\u001b[1;33m.\u001b[0m\u001b[0mconcatenate\u001b[0m\u001b[1;33m(\u001b[0m\u001b[0mx\u001b[0m\u001b[1;33m,\u001b[0m \u001b[0maxis\u001b[0m\u001b[1;33m=\u001b[0m\u001b[1;36m0\u001b[0m\u001b[1;33m)\u001b[0m\u001b[1;33m\u001b[0m\u001b[1;33m\u001b[0m\u001b[0m\n\u001b[0m\u001b[0;32m      3\u001b[0m \u001b[0my\u001b[0m \u001b[1;33m=\u001b[0m \u001b[0mnp\u001b[0m\u001b[1;33m.\u001b[0m\u001b[0mconcatenate\u001b[0m\u001b[1;33m(\u001b[0m\u001b[0my\u001b[0m\u001b[1;33m,\u001b[0m \u001b[0maxis\u001b[0m\u001b[1;33m=\u001b[0m\u001b[1;36m0\u001b[0m\u001b[1;33m)\u001b[0m\u001b[1;33m\u001b[0m\u001b[1;33m\u001b[0m\u001b[0m\n\u001b[0;32m      4\u001b[0m \u001b[1;33m\u001b[0m\u001b[0m\n\u001b[0;32m      5\u001b[0m \u001b[1;31m# Convert the feature array to a list\u001b[0m\u001b[1;33m\u001b[0m\u001b[1;33m\u001b[0m\u001b[0m\n",
      "\u001b[1;32m<__array_function__ internals>\u001b[0m in \u001b[0;36mconcatenate\u001b[1;34m(*args, **kwargs)\u001b[0m\n",
      "\u001b[1;31mValueError\u001b[0m: need at least one array to concatenate"
     ]
    }
   ],
   "source": [
    "# Combine the feature and label arrays into a single array\n",
    "x = np.concatenate(x, axis=0)\n",
    "y = np.concatenate(y, axis=0)\n",
    "\n",
    "# Convert the feature array to a list\n",
    "X = x.tolist()\n",
    "\n",
    "# Print the shapes of the arrays for verification\n",
    "print(\"X length:\", len(X))\n",
    "print(\"y shape:\", np.shape(y))\n"
   ]
  },
  {
   "cell_type": "code",
   "execution_count": 20,
   "id": "9f3e359a",
   "metadata": {
    "pycharm": {
     "name": "#%%\n"
    }
   },
   "outputs": [
    {
     "ename": "ValueError",
     "evalue": "need at least one array to concatenate",
     "output_type": "error",
     "traceback": [
      "\u001b[1;31m---------------------------------------------------------------------------\u001b[0m",
      "\u001b[1;31mValueError\u001b[0m                                Traceback (most recent call last)",
      "\u001b[1;32m~\\AppData\\Local\\Temp/ipykernel_15108/2001337118.py\u001b[0m in \u001b[0;36m<module>\u001b[1;34m\u001b[0m\n\u001b[0;32m     25\u001b[0m         \u001b[0mx\u001b[0m\u001b[1;33m.\u001b[0m\u001b[0mappend\u001b[0m\u001b[1;33m(\u001b[0m\u001b[0mnp\u001b[0m\u001b[1;33m.\u001b[0m\u001b[0marray\u001b[0m\u001b[1;33m(\u001b[0m\u001b[0mX\u001b[0m\u001b[1;33m)\u001b[0m\u001b[1;33m)\u001b[0m\u001b[1;33m\u001b[0m\u001b[1;33m\u001b[0m\u001b[0m\n\u001b[0;32m     26\u001b[0m         \u001b[0my\u001b[0m\u001b[1;33m.\u001b[0m\u001b[0mappend\u001b[0m\u001b[1;33m(\u001b[0m\u001b[0mnp\u001b[0m\u001b[1;33m.\u001b[0m\u001b[0marray\u001b[0m\u001b[1;33m(\u001b[0m\u001b[0mY\u001b[0m\u001b[1;33m)\u001b[0m\u001b[1;33m)\u001b[0m\u001b[1;33m\u001b[0m\u001b[1;33m\u001b[0m\u001b[0m\n\u001b[1;32m---> 27\u001b[1;33m \u001b[0mx\u001b[0m \u001b[1;33m=\u001b[0m \u001b[0mnp\u001b[0m\u001b[1;33m.\u001b[0m\u001b[0mconcatenate\u001b[0m\u001b[1;33m(\u001b[0m\u001b[0mx\u001b[0m\u001b[1;33m,\u001b[0m \u001b[0maxis\u001b[0m\u001b[1;33m=\u001b[0m\u001b[1;36m0\u001b[0m\u001b[1;33m)\u001b[0m\u001b[1;33m\u001b[0m\u001b[1;33m\u001b[0m\u001b[0m\n\u001b[0m\u001b[0;32m     28\u001b[0m \u001b[0my\u001b[0m \u001b[1;33m=\u001b[0m \u001b[0mnp\u001b[0m\u001b[1;33m.\u001b[0m\u001b[0mconcatenate\u001b[0m\u001b[1;33m(\u001b[0m\u001b[0my\u001b[0m\u001b[1;33m,\u001b[0m \u001b[0maxis\u001b[0m\u001b[1;33m=\u001b[0m\u001b[1;36m0\u001b[0m\u001b[1;33m)\u001b[0m\u001b[1;33m\u001b[0m\u001b[1;33m\u001b[0m\u001b[0m\n\u001b[0;32m     29\u001b[0m \u001b[1;33m\u001b[0m\u001b[0m\n",
      "\u001b[1;32m<__array_function__ internals>\u001b[0m in \u001b[0;36mconcatenate\u001b[1;34m(*args, **kwargs)\u001b[0m\n",
      "\u001b[1;31mValueError\u001b[0m: need at least one array to concatenate"
     ]
    }
   ],
   "source": [
    "x = []\n",
    "y = []\n",
    "for root, dirs, files in os.walk('数据/600/', topdown=True):\n",
    "    for file_name in files:\n",
    "        if 'xls' not in file_name and 'csv' not in file_name:\n",
    "            continue\n",
    "        if 'xls' in file_name:\n",
    "            columns = [\n",
    "                '草地', '城市', '林地', '裸地', '湿地', '水体', 'NTL_mean', 'dem', 'road',\n",
    "                'WI'\n",
    "            ]\n",
    "            data = pd.read_excel(os.path.join(\n",
    "                root, file_name)).dropna(subset=columns)\n",
    "            X = data[columns[:-1]]\n",
    "            Y = data[columns[-1:]]\n",
    "        else:\n",
    "            columns = [\n",
    "                '草地面积', '城市面积', '林地面积', '裸地面积', '湿地面积', '水体面积', 'NTL_mean',\n",
    "                'dem', 'road_near', 'WI'\n",
    "            ]\n",
    "            data = pd.read_csv(os.path.join(root,\n",
    "                                            file_name)).dropna(subset=columns)\n",
    "            X = data[columns[:-1]]\n",
    "            Y = data[columns[-1:]]\n",
    "        x.append(np.array(X))\n",
    "        y.append(np.array(Y))\n",
    "x = np.concatenate(x, axis=0)\n",
    "y = np.concatenate(y, axis=0)\n",
    "\n",
    "X = []\n",
    "Y = []\n",
    "for idx in range(len(x)):\n",
    "    try:\n",
    "        temp = np.array(x[idx], dtype='float32')\n",
    "        temp = np.array(y[idx], dtype='float32')\n",
    "        X.append(list(x[idx]))\n",
    "        Y.append(list(y[idx]))\n",
    "    except:\n",
    "        continue\n",
    "X = np.array(X, dtype='float32')\n",
    "Y = np.concatenate(Y, axis=0)"
   ]
  },
  {
   "cell_type": "code",
   "execution_count": 21,
   "id": "c6f47114",
   "metadata": {
    "pycharm": {
     "name": "#%%\n"
    }
   },
   "outputs": [
    {
     "ename": "NameError",
     "evalue": "name 'X' is not defined",
     "output_type": "error",
     "traceback": [
      "\u001b[1;31m---------------------------------------------------------------------------\u001b[0m",
      "\u001b[1;31mNameError\u001b[0m                                 Traceback (most recent call last)",
      "\u001b[1;32m~\\AppData\\Local\\Temp/ipykernel_15108/1429906725.py\u001b[0m in \u001b[0;36m<module>\u001b[1;34m\u001b[0m\n\u001b[1;32m----> 1\u001b[1;33m \u001b[0mX\u001b[0m\u001b[1;33m.\u001b[0m\u001b[0mshape\u001b[0m\u001b[1;33m,\u001b[0m \u001b[0mY\u001b[0m\u001b[1;33m.\u001b[0m\u001b[0mshape\u001b[0m\u001b[1;33m\u001b[0m\u001b[1;33m\u001b[0m\u001b[0m\n\u001b[0m",
      "\u001b[1;31mNameError\u001b[0m: name 'X' is not defined"
     ]
    }
   ],
   "source": [
    "X.shape, Y.shape"
   ]
  },
  {
   "cell_type": "markdown",
   "id": "a1799068",
   "metadata": {
    "pycharm": {
     "name": "#%% md\n"
    }
   },
   "source": [
    "### 计算评估指标"
   ]
  },
  {
   "cell_type": "code",
   "execution_count": null,
   "id": "76f5c98c",
   "metadata": {
    "pycharm": {
     "name": "#%%\n"
    }
   },
   "outputs": [],
   "source": [
    "def compute_metrics(labels, preds):\n",
    "    # MSE\n",
    "    mse = mean_squared_error(labels, preds)\n",
    "    # MAE\n",
    "    mae = mean_absolute_error(labels, preds)\n",
    "    print(f'MSE: {mse}')\n",
    "    print(f'MAE: {mae}')"
   ]
  },
  {
   "cell_type": "markdown",
   "id": "d5f1533d",
   "metadata": {
    "pycharm": {
     "name": "#%% md\n"
    }
   },
   "source": [
    "### 寻找模型最优超参"
   ]
  },
  {
   "cell_type": "code",
   "execution_count": 2,
   "id": "27e8042f",
   "metadata": {
    "pycharm": {
     "name": "#%%\n"
    }
   },
   "outputs": [],
   "source": [
    "def get_best_hyperparam(train_x, train_y):\n",
    "    estimators = [('dt',\n",
    "                   DecisionTreeRegressor(criterion='poisson',\n",
    "                                         max_features='sqrt')),\n",
    "                  ('rf',\n",
    "                   RandomForestRegressor(criterion='poisson',\n",
    "                                         max_features='auto')),\n",
    "                  ('xgb', XGBRegressor(max_depth=10, n_estimators=20))]\n",
    "    model = StackingRegressor(estimators=estimators,\n",
    "                              final_estimator=RandomForestRegressor(\n",
    "                                  criterion='poisson', max_features='auto'))\n",
    "    model.fit(train_x, train_y)\n",
    "    return model"
   ]
  },
  {
   "cell_type": "markdown",
   "id": "2f0f9bc1",
   "metadata": {
    "pycharm": {
     "name": "#%% md\n"
    }
   },
   "source": [
    "### 训练和测试"
   ]
  },
  {
   "cell_type": "code",
   "execution_count": 3,
   "id": "2f4da04f",
   "metadata": {
    "pycharm": {
     "name": "#%%\n"
    }
   },
   "outputs": [],
   "source": [
    "# 训练和测试\n",
    "def train_and_eval(train_x, train_y, test_x, test_y, flag):\n",
    "    # 训练模型\n",
    "    clf = get_best_hyperparam(train_x, train_y)\n",
    "    if os.path.exists(flag + '_model.pkl'):\n",
    "        print('Model founded. Loading...')\n",
    "        with open(flag + '_model.pkl', 'rb') as f:\n",
    "            clf = pickle.load(f)\n",
    "    else:\n",
    "        print('No model founded. Creating...')\n",
    "        with open(flag + '_model.pkl', 'wb') as f:\n",
    "            pickle.dump(clf, f)\n",
    "    # 测试\n",
    "    pred = clf.predict(test_x)\n",
    "    compute_metrics(test_y, pred)\n",
    "    return clf"
   ]
  },
  {
   "cell_type": "markdown",
   "id": "907da3ee",
   "metadata": {
    "pycharm": {
     "name": "#%% md\n"
    }
   },
   "source": [
    "### 训练集验证集划分"
   ]
  },
  {
   "cell_type": "code",
   "execution_count": 7,
   "id": "b43cdf95",
   "metadata": {
    "pycharm": {
     "name": "#%%\n"
    }
   },
   "outputs": [
    {
     "ename": "NameError",
     "evalue": "name 'x' is not defined",
     "output_type": "error",
     "traceback": [
      "\u001b[1;31m---------------------------------------------------------------------------\u001b[0m",
      "\u001b[1;31mNameError\u001b[0m                                 Traceback (most recent call last)",
      "\u001b[1;32m~\\AppData\\Local\\Temp/ipykernel_15108/2370177709.py\u001b[0m in \u001b[0;36m<module>\u001b[1;34m\u001b[0m\n\u001b[1;32m----> 1\u001b[1;33m train_x, test_x, train_y, test_y = train_test_split(x,\n\u001b[0m\u001b[0;32m      2\u001b[0m                                                     \u001b[0my\u001b[0m\u001b[1;33m,\u001b[0m\u001b[1;33m\u001b[0m\u001b[1;33m\u001b[0m\u001b[0m\n\u001b[0;32m      3\u001b[0m                                                     \u001b[0mtest_size\u001b[0m\u001b[1;33m=\u001b[0m\u001b[1;36m0.2\u001b[0m\u001b[1;33m,\u001b[0m\u001b[1;33m\u001b[0m\u001b[1;33m\u001b[0m\u001b[0m\n\u001b[0;32m      4\u001b[0m                                                     random_state=1)\n",
      "\u001b[1;31mNameError\u001b[0m: name 'x' is not defined"
     ]
    }
   ],
   "source": [
    "train_x, test_x, train_y, test_y = train_test_split(X,\n",
    "                                                    Y,\n",
    "                                                    test_size=0.2,\n",
    "                                                    random_state=1)"
   ]
  },
  {
   "cell_type": "markdown",
   "id": "02b87fb8",
   "metadata": {
    "pycharm": {
     "name": "#%% md\n"
    }
   },
   "source": [
    "### 训练以及验证"
   ]
  },
  {
   "cell_type": "code",
   "execution_count": 8,
   "id": "7904f20b",
   "metadata": {
    "pycharm": {
     "name": "#%%\n"
    }
   },
   "outputs": [
    {
     "ename": "NameError",
     "evalue": "name 'train_x' is not defined",
     "output_type": "error",
     "traceback": [
      "\u001b[1;31m---------------------------------------------------------------------------\u001b[0m",
      "\u001b[1;31mNameError\u001b[0m                                 Traceback (most recent call last)",
      "\u001b[1;32m~\\AppData\\Local\\Temp/ipykernel_15108/4237150879.py\u001b[0m in \u001b[0;36m<module>\u001b[1;34m\u001b[0m\n\u001b[1;32m----> 1\u001b[1;33m \u001b[0mmodel\u001b[0m \u001b[1;33m=\u001b[0m \u001b[0mtrain_and_eval\u001b[0m\u001b[1;33m(\u001b[0m\u001b[0mtrain_x\u001b[0m\u001b[1;33m,\u001b[0m \u001b[0mtrain_y\u001b[0m\u001b[1;33m,\u001b[0m \u001b[0mtest_x\u001b[0m\u001b[1;33m,\u001b[0m \u001b[0mtest_y\u001b[0m\u001b[1;33m,\u001b[0m \u001b[0mflag\u001b[0m\u001b[1;33m=\u001b[0m\u001b[1;34m'Stacking'\u001b[0m\u001b[1;33m)\u001b[0m\u001b[1;33m\u001b[0m\u001b[1;33m\u001b[0m\u001b[0m\n\u001b[0m",
      "\u001b[1;31mNameError\u001b[0m: name 'train_x' is not defined"
     ]
    }
   ],
   "source": [
    "model = train_and_eval(train_x, train_y, test_x, test_y, flag='Stacking')"
   ]
  },
  {
   "cell_type": "markdown",
   "id": "bcf7bd3f",
   "metadata": {
    "pycharm": {
     "name": "#%% md\n"
    }
   },
   "source": [
    "### 测试"
   ]
  },
  {
   "cell_type": "code",
   "execution_count": 9,
   "id": "efb41939",
   "metadata": {
    "pycharm": {
     "name": "#%%\n"
    }
   },
   "outputs": [],
   "source": [
    "test_X = []\n",
    "pred_dir = 'Stacking'\n",
    "os.makedirs(pred_dir, exist_ok=True)\n",
    "for root, dirs, files in os.walk('数据/2013-19/', topdown=True):\n",
    "    for file_name in files:\n",
    "        if 'xls' in file_name:\n",
    "            data = pd.read_excel(os.path.join(root, file_name))\n",
    "            columns = [\n",
    "                '草地面积', '城市面积', '林地面积', '裸地面积', '湿地面积', '水体面积', 'NTL_mean',\n",
    "                'dem'\n",
    "            ]\n",
    "            if 'road' in data:\n",
    "                columns.append('road')\n",
    "            else:\n",
    "                columns.append('road_near')\n",
    "            data = data.dropna(subset=columns)\n",
    "            test_X = np.array(data[columns])\n",
    "            pred = model.predict(test_X)\n",
    "            data['WI'] = pred\n",
    "            data.to_excel(os.path.join(pred_dir, file_name + '.pred.xlsx'),\n",
    "                          index=False,\n",
    "                          encoding='utf-8-sig')"
   ]
  },
  {
   "cell_type": "code",
   "execution_count": 12,
   "id": "00a9d118",
   "metadata": {},
   "outputs": [
    {
     "ename": "SyntaxError",
     "evalue": "invalid syntax (Temp/ipykernel_15108/1842420233.py, line 1)",
     "output_type": "error",
     "traceback": [
      "\u001b[1;36m  File \u001b[1;32m\"C:\\Users\\Daniel\\AppData\\Local\\Temp/ipykernel_15108/1842420233.py\"\u001b[1;36m, line \u001b[1;32m1\u001b[0m\n\u001b[1;33m    pip -m XGBRegressor\u001b[0m\n\u001b[1;37m           ^\u001b[0m\n\u001b[1;31mSyntaxError\u001b[0m\u001b[1;31m:\u001b[0m invalid syntax\n"
     ]
    }
   ],
   "source": [
    "pip -m XGBRegressor\n",
    "\n"
   ]
  },
  {
   "cell_type": "code",
   "execution_count": null,
   "id": "9d37a8f7",
   "metadata": {},
   "outputs": [],
   "source": []
  }
 ],
 "metadata": {
  "kernelspec": {
   "display_name": "Python 3 (ipykernel)",
   "language": "python",
   "name": "python3"
  },
  "language_info": {
   "codemirror_mode": {
    "name": "ipython",
    "version": 3
   },
   "file_extension": ".py",
   "mimetype": "text/x-python",
   "name": "python",
   "nbconvert_exporter": "python",
   "pygments_lexer": "ipython3",
   "version": "3.9.7"
  }
 },
 "nbformat": 4,
 "nbformat_minor": 5
}
